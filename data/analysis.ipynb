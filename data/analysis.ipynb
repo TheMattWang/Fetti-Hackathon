{
 "cells": [
  {
   "cell_type": "code",
   "execution_count": 1,
   "id": "5019aa57",
   "metadata": {},
   "outputs": [],
   "source": [
    "import pandas as pd"
   ]
  },
  {
   "cell_type": "code",
   "execution_count": 21,
   "id": "cf8a0fbd",
   "metadata": {},
   "outputs": [],
   "source": [
    "trip = pd.read_csv(\"trip_data.csv\")\n",
    "customer_demo = pd.read_csv(\"customer_demographics.csv\")\n",
    "check = pd.read_csv(\"checked_in.csv\")"
   ]
  },
  {
   "cell_type": "code",
   "execution_count": null,
   "id": "f5194865",
   "metadata": {},
   "outputs": [],
   "source": []
  },
  {
   "cell_type": "code",
   "execution_count": 55,
   "id": "7a755086",
   "metadata": {},
   "outputs": [],
   "source": [
    "trip_and_check = pd.merge(trip,check, how='outer',on=\"Trip ID\")\n",
    "check_and_customer = pd.merge(check,customer_demo,how=\"outer\",on=\"User ID\")\n",
    "\n",
    "\n",
    "trip = trip.rename(columns = {\"Booking User ID\" : \"User ID\"})\n",
    "\n",
    "\n",
    "customer_demo = customer_demo.dropna(how='any',axis=0) \n",
    "\n",
    "trip_and_customer = pd.merge(trip,customer_demo,how=\"inner\",on='User ID')\n"
   ]
  },
  {
   "cell_type": "code",
   "execution_count": 56,
   "id": "5615bcd9",
   "metadata": {},
   "outputs": [
    {
     "name": "stdout",
     "output_type": "stream",
     "text": [
      "['Trip ID' 'User ID_x' 'Pick Up Latitude' 'Pick Up Longitude'\n",
      " 'Drop Off Latitude' 'Drop Off Longitude' 'Pick Up Address'\n",
      " 'Drop Off Address' 'Trip Date and Time' 'Total Passengers' 'User ID_y']\n",
      "['Trip ID' 'User ID' 'Age']\n",
      "['Trip ID' 'User ID' 'Pick Up Latitude' 'Pick Up Longitude'\n",
      " 'Drop Off Latitude' 'Drop Off Longitude' 'Pick Up Address'\n",
      " 'Drop Off Address' 'Trip Date and Time' 'Total Passengers' 'Age']\n"
     ]
    }
   ],
   "source": [
    "print(trip_and_check.columns.values)\n",
    "print(check_and_customer.columns.values)\n",
    "print(trip_and_customer.columns.values)\n",
    "#print(trip_and_customer.head())\n"
   ]
  },
  {
   "cell_type": "code",
   "execution_count": null,
   "id": "f7d4dc84",
   "metadata": {},
   "outputs": [],
   "source": []
  }
 ],
 "metadata": {
  "kernelspec": {
   "display_name": "realKern",
   "language": "python",
   "name": "python3"
  },
  "language_info": {
   "codemirror_mode": {
    "name": "ipython",
    "version": 3
   },
   "file_extension": ".py",
   "mimetype": "text/x-python",
   "name": "python",
   "nbconvert_exporter": "python",
   "pygments_lexer": "ipython3",
   "version": "3.11.3"
  }
 },
 "nbformat": 4,
 "nbformat_minor": 5
}
